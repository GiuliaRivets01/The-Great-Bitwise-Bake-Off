{
 "nbformat": 4,
 "nbformat_minor": 0,
 "metadata": {
  "colab": {
   "provenance": [],
   "gpuType": "T4"
  },
  "kernelspec": {
   "name": "python3",
   "display_name": "Python 3"
  },
  "language_info": {
   "name": "python"
  },
  "accelerator": "GPU"
 },
 "cells": [
  {
   "cell_type": "markdown",
   "source": [
    "# Computational Creativity - Assignment 2: The Great Bitwise Bake Off"
   ],
   "metadata": {
    "id": "Lp5lOG7CrfpP"
   }
  },
  {
   "cell_type": "markdown",
   "source": [
    "###  Load the inspirational set entitled: Dessert_recipes.json\n",
    "\n",
    "The selection of recipes aimed for diversity, with the intention of incorporating a wide range of ingredients and cooking methods. To ensure variety, multiple sources were consulted during the recipe selection process.\n",
    "\n",
    "As the project evolved, the team decided to integrate a fitness function that considers the nutritional content of the recipes. For this purpose, a food calorie calculator from livofy.com was utilized. This addition came about during discussions on optimizing the algorithm's performance.\n",
    "\n",
    "When considering the fitness function, the team chose to work with a dataset comprising 20 diverse recipes. These recipes were deliberately selected to encompass different units for expressing ingredient amounts, adding a layer of complexity to the optimization process."
   ],
   "metadata": {
    "id": "fLPqeRXeELc6"
   }
  },
  {
   "cell_type": "code",
   "source": [
    "import json\n",
    "import pprint\n",
    "import random\n",
    "import math\n",
    "\n",
    "\n",
    "json_file_path = '/content/Dessert_recipes.json'\n",
    "\n",
    "with open(json_file_path, 'r') as json_file:\n",
    "    recipes = json.load(json_file)\n",
    "\n",
    "pprint.PrettyPrinter(indent=2, depth=4).pprint(recipes['recipes'][1])"
   ],
   "metadata": {
    "colab": {
     "base_uri": "https://localhost:8080/"
    },
    "id": "TcIbtQF4EEq2",
    "outputId": "8081db59-e6c7-4560-ce47-c961f98f8277"
   },
   "execution_count": null,
   "outputs": [
    {
     "output_type": "stream",
     "name": "stdout",
     "text": [
      "{ 'ingredients': [ { 'amount': '480',\n",
      "                     'calories': '1536.960',\n",
      "                     'cost': '0.89',\n",
      "                     'fat': '7.2',\n",
      "                     'ingredient': 'flour',\n",
      "                     'protein': '50.88',\n",
      "                     'unit': 'g'},\n",
      "                   { 'amount': '180',\n",
      "                     'calories': '756',\n",
      "                     'cost': '2.99',\n",
      "                     'fat': '18',\n",
      "                     'ingredient': 'cocoa powder',\n",
      "                     'protein': '36',\n",
      "                     'unit': 'g'},\n",
      "                   { 'amount': '1',\n",
      "                     'calories': '0',\n",
      "                     'cost': '0',\n",
      "                     'fat': '0',\n",
      "                     'ingredient': 'baking soda',\n",
      "                     'protein': '0',\n",
      "                     'unit': 'tsp'},\n",
      "                   { 'amount': '1',\n",
      "                     'calories': '0',\n",
      "                     'cost': '0',\n",
      "                     'fat': '0',\n",
      "                     'ingredient': 'kosher salt',\n",
      "                     'protein': '0',\n",
      "                     'unit': 'pinch'},\n",
      "                   { 'amount': '230',\n",
      "                     'calories': '2070',\n",
      "                     'cost': '2.50',\n",
      "                     'fat': '230',\n",
      "                     'ingredient': 'unsalted butter',\n",
      "                     'protein': '0',\n",
      "                     'unit': 'g'},\n",
      "                   { 'amount': '480',\n",
      "                     'calories': '1920',\n",
      "                     'cost': '1.04',\n",
      "                     'fat': '0',\n",
      "                     'ingredient': 'sugar',\n",
      "                     'protein': '0',\n",
      "                     'unit': 'g'},\n",
      "                   { 'amount': '1',\n",
      "                     'calories': '43.75',\n",
      "                     'cost': '4.76',\n",
      "                     'fat': '0',\n",
      "                     'ingredient': 'instant coffee granules',\n",
      "                     'protein': '1.25',\n",
      "                     'unit': 'tbsp'},\n",
      "                   { 'amount': '2',\n",
      "                     'calories': '156',\n",
      "                     'cost': '2',\n",
      "                     'fat': '10.8',\n",
      "                     'ingredient': 'eggs',\n",
      "                     'protein': '15.6',\n",
      "                     'unit': 'piece'},\n",
      "                   { 'amount': '1',\n",
      "                     'calories': '15',\n",
      "                     'cost': '1.25',\n",
      "                     'fat': '0',\n",
      "                     'ingredient': 'vanilla extract',\n",
      "                     'protein': '0',\n",
      "                     'unit': 'tbsp'},\n",
      "                   { 'amount': '240',\n",
      "                     'calories': '1611.12',\n",
      "                     'cost': '2.89',\n",
      "                     'fat': '154.32',\n",
      "                     'ingredient': 'walnuts',\n",
      "                     'protein': '35.76',\n",
      "                     'unit': 'g'},\n",
      "                   { 'amount': '120',\n",
      "                     'calories': '600',\n",
      "                     'cost': '4.41',\n",
      "                     'fat': '24',\n",
      "                     'ingredient': 'chocolate chips',\n",
      "                     'protein': '1.2',\n",
      "                     'unit': 'g'}],\n",
      "  'name': 'Chewy chocolate cookies'}\n"
     ]
    }
   ]
  },
  {
   "cell_type": "markdown",
   "source": [
    "### Extract all the ingredients, so we can apply the mutation"
   ],
   "metadata": {
    "id": "iiboIf6wJYGy"
   }
  },
  {
   "cell_type": "code",
   "source": [
    "all_ingredients = []\n",
    "for recipe in recipes['recipes']:\n",
    "  all_ingredients.extend(recipe['ingredients'])"
   ],
   "metadata": {
    "id": "BnUvFeZ5JP7w"
   },
   "execution_count": null,
   "outputs": []
  },
  {
   "cell_type": "markdown",
   "source": [
    "### Creating an initial population"
   ],
   "metadata": {
    "id": "jyEsnGD-KSIF"
   }
  },
  {
   "cell_type": "code",
   "source": [
    "population_size = 20\n",
    "\n",
    "population = random.sample(recipes['recipes'], k=population_size)\n",
    "pprint.PrettyPrinter(indent=2, depth=2).pprint(population)"
   ],
   "metadata": {
    "id": "qTZq7tt_J_8E",
    "colab": {
     "base_uri": "https://localhost:8080/"
    },
    "outputId": "7f2d016e-e67d-4bb9-e1c7-a2c36d03c887"
   },
   "execution_count": null,
   "outputs": [
    {
     "output_type": "stream",
     "name": "stdout",
     "text": [
      "[ {'ingredients': [...], 'name': 'Peanut Butter Cookies'},\n",
      "  {'ingredients': [...], 'name': 'Brownie Cookies'},\n",
      "  {'ingredients': [...], 'name': 'Chewy chocolate cookies'},\n",
      "  {'ingredients': [...], 'name': 'Tiramisu'},\n",
      "  {'ingredients': [...], 'name': 'Marmalade Cake'},\n",
      "  {'ingredients': [...], 'name': 'Caramel cake'},\n",
      "  {'ingredients': [...], 'name': 'Coffe Shortbread'},\n",
      "  {'ingredients': [...], 'name': 'Banana cake '},\n",
      "  {'ingredients': [...], 'name': 'Chocolate Fridge Cake'},\n",
      "  {'ingredients': [...], 'name': 'Almost Flourless Chocolate-Orange Cake'},\n",
      "  {'ingredients': [...], 'name': 'Lemon Tea cookies'},\n",
      "  {'ingredients': [...], 'name': 'Pumpkin cake'},\n",
      "  {'ingredients': [...], 'name': 'Carrot Cake'},\n",
      "  {'ingredients': [...], 'name': 'Triple chocolate layer cake'},\n",
      "  {'ingredients': [...], 'name': 'Chocolate Chip Oatmeal Cookies'},\n",
      "  {'ingredients': [...], 'name': 'Big & Buttery Chocolate Chip Cookies'},\n",
      "  {'ingredients': [...], 'name': 'Ginger & White Chocolate Cake'},\n",
      "  {'ingredients': [...], 'name': 'Cheesecake'},\n",
      "  {'ingredients': [...], 'name': 'Sugar cookies'},\n",
      "  {'ingredients': [...], 'name': 'Strawberry cake'}]\n"
     ]
    }
   ]
  },
  {
   "cell_type": "markdown",
   "source": [
    "### Evaluating Recipes (Fitness function)\n",
    "\n",
    "Here we  have different evaluation types (fitness score)\n",
    "- protein_content = r['protein']  # Protein content of the recipe.\n",
    "- fat_content = r['fat']  # Fat content of the recipe.\n",
    "- calorie_count = r['calories']  # Total calories in the recipe.\n",
    "- ingredient_cost = r['cost']  # The cost of ingredients.\n",
    "- nutritional_value = r['{calories / cost}'] # The nutritional value of ingredients.\n",
    "- no_ingredients = len(r['ingredients']) # Time consumed proportional to the number of ingredients (more ingredients means more time spent on preparing them thus on cooking.\n",
    "\n",
    "Then, we are calculating the total fitness function with respect to the defined weights.\n",
    "\n",
    "*All these ideas required from us adding some extra data in the dataset*"
   ],
   "metadata": {
    "id": "mTde-0-LKWMQ"
   }
  },
  {
   "cell_type": "code",
   "source": [
    "def evaluate_recipes(recipes):\n",
    "  for recipe in recipes:\n",
    "        proteins_weight = 1  # Weight for proteins\n",
    "        calories_weight = 0.1  # Weight for calories\n",
    "        fat_weight = 0.5  # Weight for fat\n",
    "        cost_weight = 0.2  # Weight for ingredient cost\n",
    "        nutritional_weight = 0.8  # Weight for nutritional value\n",
    "        no_ingredients_weight = 20\n",
    "\n",
    "        total_proteins = sum(float(ingredient.get('proteins', 0)) for ingredient in recipe['ingredients'])\n",
    "        total_calories = sum(float(ingredient.get('calories', 0)) for ingredient in recipe['ingredients'])\n",
    "        total_fat = sum(float(ingredient.get('fat', 0)) for ingredient in recipe['ingredients'])\n",
    "        total_cost = sum(float(ingredient.get('cost', 0)) for ingredient in recipe['ingredients'])\n",
    "        nutritional_value = float(total_calories / total_cost)\n",
    "        no_ingredients = len(recipe['ingredients'])\n",
    "\n",
    "        # Fitness calculation\n",
    "        recipe['fitness'] = int(\n",
    "            proteins_weight * total_proteins +\n",
    "            calories_weight * total_calories +\n",
    "            fat_weight * total_fat +\n",
    "            cost_weight * total_cost +\n",
    "            nutritional_value * nutritional_weight -\n",
    "            no_ingredients * no_ingredients_weight\n",
    "        )\n",
    "\n",
    "\n",
    "evaluate_recipes(population)\n",
    "population = sorted(population, reverse = True, key = lambda r: r['fitness'])\n",
    "\n",
    "pprint.PrettyPrinter(indent=2, depth=2).pprint(population)"
   ],
   "metadata": {
    "id": "SW3o3rCoKeBn",
    "colab": {
     "base_uri": "https://localhost:8080/"
    },
    "outputId": "24125b4b-3fda-47dd-bbe4-193267b4cfeb"
   },
   "execution_count": null,
   "outputs": [
    {
     "output_type": "stream",
     "name": "stdout",
     "text": [
      "[ { 'fitness': 1882,\n",
      "    'ingredients': [...],\n",
      "    'name': 'Big & Buttery Chocolate Chip Cookies'},\n",
      "  {'fitness': 1690, 'ingredients': [...], 'name': 'Banana cake '},\n",
      "  { 'fitness': 1683,\n",
      "    'ingredients': [...],\n",
      "    'name': 'Chocolate Chip Oatmeal Cookies'},\n",
      "  {'fitness': 1184, 'ingredients': [...], 'name': 'Chewy chocolate cookies'},\n",
      "  {'fitness': 1182, 'ingredients': [...], 'name': 'Cheesecake'},\n",
      "  {'fitness': 1157, 'ingredients': [...], 'name': 'Caramel cake'},\n",
      "  { 'fitness': 1146,\n",
      "    'ingredients': [...],\n",
      "    'name': 'Triple chocolate layer cake'},\n",
      "  {'fitness': 983, 'ingredients': [...], 'name': 'Brownie Cookies'},\n",
      "  {'fitness': 917, 'ingredients': [...], 'name': 'Marmalade Cake'},\n",
      "  {'fitness': 847, 'ingredients': [...], 'name': 'Strawberry cake'},\n",
      "  {'fitness': 813, 'ingredients': [...], 'name': 'Peanut Butter Cookies'},\n",
      "  { 'fitness': 799,\n",
      "    'ingredients': [...],\n",
      "    'name': 'Ginger & White Chocolate Cake'},\n",
      "  {'fitness': 755, 'ingredients': [...], 'name': 'Lemon Tea cookies'},\n",
      "  {'fitness': 752, 'ingredients': [...], 'name': 'Sugar cookies'},\n",
      "  {'fitness': 684, 'ingredients': [...], 'name': 'Coffe Shortbread'},\n",
      "  {'fitness': 668, 'ingredients': [...], 'name': 'Pumpkin cake'},\n",
      "  {'fitness': 662, 'ingredients': [...], 'name': 'Chocolate Fridge Cake'},\n",
      "  {'fitness': 537, 'ingredients': [...], 'name': 'Tiramisu'},\n",
      "  {'fitness': 436, 'ingredients': [...], 'name': 'Carrot Cake'},\n",
      "  { 'fitness': 434,\n",
      "    'ingredients': [...],\n",
      "    'name': 'Almost Flourless Chocolate-Orange Cake'}]\n"
     ]
    }
   ]
  },
  {
   "cell_type": "markdown",
   "source": [
    "### Selecting Recipes"
   ],
   "metadata": {
    "id": "Sp6SUyZaKqbx"
   }
  },
  {
   "cell_type": "code",
   "source": [
    "# Using Roulette Wheel\n",
    "def select_recipe(recipes):\n",
    "  sum_fitness = sum([recipe['fitness'] for recipe in recipes])\n",
    "  f = random.randint(0, sum_fitness)\n",
    "  for recipe in recipes:\n",
    "    if f < recipe['fitness']:\n",
    "      return recipe\n",
    "    f -= recipe['fitness']\n",
    "  return recipes[-1]"
   ],
   "metadata": {
    "id": "LYmLJuJUKp_N"
   },
   "execution_count": null,
   "outputs": []
  },
  {
   "cell_type": "markdown",
   "source": [
    "### Genetic Operators\n",
    "\n",
    "The following functions implement the genetic operators of crossover and mutation. Crossover takes two recipes and combines them by choosing a point on each genotype (recipe) to split each list into two, and joining the first sublist from one genotype with the second sublist of the second genotype."
   ],
   "metadata": {
    "id": "OAvAkLZKK7mI"
   }
  },
  {
   "cell_type": "code",
   "source": [
    "recipe_number = 1\n",
    "\n",
    "def crossover_recipes(r1, r2):\n",
    "  global recipe_number\n",
    "  p1 = random.randint(1, len(r1['ingredients'])-1)\n",
    "  p2 = random.randint(1, len(r2['ingredients'])-1)\n",
    "  r1a = r1['ingredients'][0:p1]\n",
    "  r2b = r2['ingredients'][p2:-1]\n",
    "  r = dict()\n",
    "  r['name'] = \"recipe {}\".format(recipe_number)\n",
    "  recipe_number += 1\n",
    "  r['ingredients'] = r1a + r2b\n",
    "  return r"
   ],
   "metadata": {
    "id": "8UIu17x2LAzp"
   },
   "execution_count": null,
   "outputs": []
  },
  {
   "cell_type": "markdown",
   "source": [
    "The mutation operator changes a recipe using one of four different types of mutations: (1) changing the amount of an ingredient, (2) changing the type of an ingredient, (3) adding an ingredient, and (4) removing an ingredient."
   ],
   "metadata": {
    "id": "S4C50QieLHp8"
   }
  },
  {
   "cell_type": "code",
   "source": [
    "def mutate_recipe(r):\n",
    "  m = random.randint(0, 3)\n",
    "  if m == 0:\n",
    "    i = random.randint(0, len(r['ingredients'])-1)\n",
    "    r['ingredients'][i] = r['ingredients'][i].copy()\n",
    "    if \"/\" in str(r['ingredients'][i]['amount']):\n",
    "      temp = r['ingredients'][i]['amount'].split(\"/\")\n",
    "      r['ingredients'][i]['amount'] = int(temp[0]) / int(temp[1])\n",
    "    r['ingredients'][i]['amount'] = int(r['ingredients'][i]['amount'])\n",
    "    r['ingredients'][i]['amount'] += math.floor(r['ingredients'][i]['amount'] * 0.1)\n",
    "    r['ingredients'][i]['amount'] = max(1, r['ingredients'][i]['amount'])\n",
    "  elif m == 1:\n",
    "    j = random.randint(0, len(r['ingredients'])-1)\n",
    "    r['ingredients'][j] = r['ingredients'][j].copy()\n",
    "    r['ingredients'][j]['ingredient'] = random.choice(all_ingredients)['ingredient']\n",
    "  elif m == 2:\n",
    "    r['ingredients'].append(random.choice(all_ingredients).copy())\n",
    "  else:\n",
    "    if len(r['ingredients']) > 1:\n",
    "      r['ingredients'].remove(random.choice(r['ingredients']))\n"
   ],
   "metadata": {
    "id": "piG4ukGrLJrw"
   },
   "execution_count": null,
   "outputs": []
  },
  {
   "cell_type": "markdown",
   "source": [
    "The following function is domain-specific and normalises a generated recipe by removing duplicate ingredients (combining the amounts of all instances of an ingredient) and rescaling the volume of ingredients listed to 1 litre (1000 units)."
   ],
   "metadata": {
    "id": "CLvZl3g0Ldfv"
   }
  },
  {
   "cell_type": "code",
   "source": [
    "def normalise_recipe(r):\n",
    "  unique_ingredients = dict()\n",
    "  for i in r['ingredients']:\n",
    "    if i['ingredient'] in unique_ingredients:\n",
    "      n = unique_ingredients[i['ingredient']]\n",
    "      n['amount'] += i['amount']\n",
    "    else:\n",
    "      unique_ingredients[i['ingredient']] = i.copy()\n",
    "  r['ingredients'] = list(unique_ingredients.values())\n",
    "\n",
    "  sum_amounts = sum([i['amount'] for i in r['ingredients']])\n",
    "  scale = 1000 / sum_amounts\n",
    "  for i in r['ingredients']:\n",
    "    i['amount'] = max(1, math.floor(i['amount'] * scale))"
   ],
   "metadata": {
    "id": "lUvucMX1Lf4T"
   },
   "execution_count": null,
   "outputs": []
  },
  {
   "cell_type": "markdown",
   "source": [
    "### Generate Recipes"
   ],
   "metadata": {
    "id": "3wFE47HELl0l"
   }
  },
  {
   "cell_type": "code",
   "source": [
    "def generate_recipes(size, population):\n",
    "  R = []\n",
    "  while len(R) < size:\n",
    "    r1 = select_recipe(population)\n",
    "    r2 = select_recipe(population)\n",
    "    r = crossover_recipes(r1, r2)\n",
    "    mutate_recipe(r)\n",
    "    #normalise_recipe(r)\n",
    "    R.append(r)\n",
    "  evaluate_recipes(R)\n",
    "  return R"
   ],
   "metadata": {
    "id": "7-Jdfy4uLqFn"
   },
   "execution_count": null,
   "outputs": []
  },
  {
   "cell_type": "markdown",
   "source": [
    "### Select a new population"
   ],
   "metadata": {
    "id": "VhOYAbKVLsmu"
   }
  },
  {
   "cell_type": "code",
   "source": [
    "def select_population(P, R):\n",
    "  R = sorted(R, reverse = True, key = lambda r: r['fitness'])\n",
    "  P = P[0:len(P)//2] + R[0:len(R)//2]\n",
    "  P = sorted(P, reverse = True, key = lambda r: r['fitness'])\n",
    "  return P"
   ],
   "metadata": {
    "id": "1LAbLrIpLxO_"
   },
   "execution_count": null,
   "outputs": []
  },
  {
   "cell_type": "markdown",
   "source": [
    "### Create a New Recipe\n",
    "\n",
    "Here, we are finally spinning up all parts together to produce final recipes."
   ],
   "metadata": {
    "id": "e9Txpe6hL4f8"
   }
  },
  {
   "cell_type": "code",
   "source": [
    "population = random.choices(recipes['recipes'], k=population_size)\n",
    "evaluate_recipes(population)\n",
    "population = sorted(population, reverse = True, key = lambda r: r['fitness'])\n",
    "\n",
    "max_fitnesses = []\n",
    "min_fitnesses = []\n",
    "for i in range(10):\n",
    "  R = generate_recipes(population_size, population)\n",
    "  population = select_population(population, R)\n",
    "  max_fitnesses.append(population[0]['fitness'])\n",
    "  min_fitnesses.append(population[-1]['fitness'])\n",
    "\n"
   ],
   "metadata": {
    "id": "0IV3gocFL3Yd",
    "colab": {
     "base_uri": "https://localhost:8080/"
    },
    "outputId": "33c0bab1-ad08-41a4-c3fd-f83bfc28c4b4"
   },
   "execution_count": null,
   "outputs": [
    {
     "output_type": "stream",
     "name": "stdout",
     "text": [
      "[{'name': 'Big & Buttery Chocolate Chip Cookies', 'ingredients': [{'amount': '240', 'unit': 'g', 'ingredient': 'butter', 'protein': '0', 'fat': '240', 'calories': '2160', 'cost': '1.99'}, {'amount': '240', 'unit': 'g', 'ingredient': 'brown sugar', 'protein': '0', 'fat': '0', 'calories': '960', 'cost': '1.29'}, {'amount': '180', 'unit': 'g', 'ingredient': 'sugar', 'protein': '180', 'fat': '0', 'calories': '720', 'cost': '1.04'}, {'amount': '1', 'unit': 'tsp', 'ingredient': 'vanilla extract', 'protein': '0', 'fat': '0', 'calories': '15', 'cost': '1.25'}, {'amount': '480', 'unit': 'g', 'ingredient': 'flour', 'protein': '50.88', 'fat': '7.2', 'calories': '1536.96', 'cost': '0.89'}, {'amount': '1', 'unit': 'tsp', 'ingredient': 'backing soda', 'protein': '0', 'fat': '0', 'calories': '0', 'cost': '0'}, {'amount': '340', 'unit': 'g', 'ingredient': 'chocolate chips', 'protein': '3.4', 'fat': '68', 'calories': '1700', 'cost': '2.49'}, {'amount': '480', 'unit': 'g', 'ingredient': 'chopped walnuts', 'protein': '71.52', 'fat': '308.64', 'calories': '3222.24', 'cost': '2.89'}], 'fitness': 1882}, {'name': 'Almost Flourless Chocolate-Orange Cake', 'ingredients': [{'amount': '115', 'unit': 'g', 'ingredient': 'unsalted butter', 'protein': '0', 'fat': '115', 'calories': '1035', 'cost': '2.50'}, {'amount': '250', 'unit': 'g', 'ingredient': 'bittersweet chocolate', 'protein': '25', 'fat': '75', 'calories': '1250', 'cost': '2.79'}, {'amount': '6', 'unit': 'piece', 'ingredient': 'large eggs', 'protein': '46.8', 'fat': '32.4', 'calories': '468', 'cost': '2'}, {'amount': '145', 'unit': 'g', 'ingredient': 'dark brown sugar', 'protein': '0', 'fat': '0', 'calories': '580', 'cost': '1.29'}, {'amount': '2', 'unit': 'tbsp', 'ingredient': 'flower', 'protein': '1.696', 'fat': '0.24', 'calories': '51.232', 'cost': '0.89'}, {'amount': '2-3', 'unit': 'tbsp', 'ingredient': 'orange flavored liqueur', 'protein': '0', 'fat': '0', 'calories': '62', 'cost': '11.49'}, {'amount': '2', 'unit': 'tbsp', 'ingredient': 'orange zest', 'protein': '0', 'fat': '0', 'calories': '11.2', 'cost': '1.19'}, {'amount': '1/2', 'unit': 'tbs', 'ingredient': 'kosher salt', 'protein': '0', 'fat': '0', 'calories': '0', 'cost': '0'}, {'amount': '5', 'unit': 'tbsp', 'ingredient': 'granulated sugar', 'protein': '0', 'fat': '0', 'calories': '248', 'cost': '1.04'}], 'fitness': 434}, {'name': 'Triple chocolate layer cake', 'ingredients': [{'amount': '220', 'unit': 'g', 'ingredient': 'flour', 'protein': '23.320', 'fat': '3.300', 'calories': '704.440', 'cost': '0.89'}, {'amount': '60', 'unit': 'g', 'ingredient': 'cocoa powder', 'protein': '12.000', 'fat': '6.000', 'calories': '252.000', 'cost': '2.99'}, {'amount': '350', 'unit': 'g', 'ingredient': 'granulated sugar', 'protein': '0.0', 'fat': '0.0', 'calories': '1400.000', 'cost': '1.04'}, {'amount': '2', 'unit': 'tsp', 'ingredient': 'baking soda', 'protein': '0.0', 'fat': '0.0', 'calories': '0.0', 'cost': '1.79'}, {'amount': '2', 'unit': 'tsp', 'ingredient': 'salt', 'protein': '0.0', 'fat': '0.0', 'calories': '0.0', 'cost': '0.0'}, {'amount': '2', 'unit': 'tsp', 'ingredient': 'espresso powder', 'protein': '0.550', 'fat': '5.940', 'calories': '67.100', 'cost': '3.99'}, {'amount': '120', 'unit': 'ml', 'ingredient': 'vegetable oil', 'protein': '0.0', 'fat': '120.000', 'calories': '1080.000', 'cost': '2.49'}, {'amount': '2', 'unit': 'piece', 'ingredient': 'eggs', 'protein': '15.600', 'fat': '10.800', 'calories': '156.000', 'cost': '0.8'}, {'amount': '3', 'unit': 'tsp', 'ingredient': 'pure vanilla extract', 'protein': '0.0', 'fat': '0.0', 'calories': '33.3', 'cost': '1.25'}, {'amount': '240', 'unit': 'ml', 'ingredient': 'buttermilk', 'protein': '2.400', 'fat': '2.400', 'calories': '48.000', 'cost': '0.79'}, {'amount': '240', 'unit': 'ml', 'ingredient': 'hot coffee', 'protein': '24.000', 'fat': '0.0', 'calories': '840.000', 'cost': '0.99'}, {'amount': '290', 'unit': 'g', 'ingredient': 'unsalted butter', 'protein': '0.0', 'fat': '290.000', 'calories': '2610.000', 'cost': '2.55'}, {'amount': '420', 'unit': 'g', 'ingredient': \"confectioners's sugar\", 'protein': '0.0', 'fat': '0.0', 'calories': '1680.000', 'cost': '1.04'}, {'amount': '65', 'unit': 'g', 'ingredient': 'unsweetened cocoa powder', 'protein': '13.000', 'fat': '6.500', 'calories': '273.000', 'cost': '2.99'}, {'amount': '50', 'unit': 'ml', 'ingredient': 'heavy cream', 'protein': '1.650', 'fat': '3.100', 'calories': '44.500', 'cost': '0.99'}], 'fitness': 1146}, {'name': 'Chocolate Chip Oatmeal Cookies', 'ingredients': [{'amount': '240', 'unit': 'g', 'ingredient': 'butter', 'protein': '0', 'fat': '240', 'calories': '2160', 'cost': '1.99'}, {'amount': '180', 'unit': 'g', 'ingredient': 'sugar', 'protein': '0', 'fat': '0', 'calories': '720', 'cost': '1.04'}, {'amount': '180', 'unit': 'g', 'ingredient': 'brown sugar', 'protein': '0', 'fat': '0', 'calories': '720', 'cost': '1.29'}, {'amount': '2', 'unit': 'piece', 'ingredient': 'egg', 'protein': '15.6', 'fat': '10.8', 'calories': '156', 'cost': '2'}, {'amount': '1', 'unit': 'tsp', 'ingredient': 'vanilla extract', 'protein': '0', 'fat': '0', 'calories': '15', 'cost': '1.25'}, {'amount': '720', 'unit': 'g', 'ingredient': 'quick-cooking oats', 'protein': '97.92', 'fat': '54.72', 'calories': '2692.8', 'cost': '0.79'}, {'amount': '140', 'unit': 'g', 'ingredient': 'flour', 'protein': '14.84', 'fat': '2.1', 'calories': '448.28', 'cost': '0.89'}, {'amount': '100', 'unit': 'g', 'ingredient': 'instant vanilla pudding mix', 'protein': '1.4', 'fat': '3.8', 'calories': '128.7', 'cost': '0.89'}, {'amount': '1', 'unit': 'tsp', 'ingredient': 'baking soda', 'protein': '0', 'fat': '0', 'calories': '0', 'cost': '0'}, {'amount': '1', 'unit': 'tsp', 'ingredient': 'salt', 'protein': '0', 'fat': '0', 'calories': '0', 'cost': '0'}, {'amount': '480', 'unit': 'g', 'ingredient': 'semisweet chocolate chips', 'protein': '4.8', 'fat': '96', 'calories': '2400', 'cost': '2.49'}, {'amount': '240', 'unit': 'g', 'ingredient': 'chopped nuts', 'protein': '72', 'fat': '96', 'calories': '1440', 'cost': '2.35'}], 'fitness': 1683}, {'name': 'Lemon Tea cookies', 'ingredients': [{'amount': '200', 'unit': 'g', 'ingredient': 'butter', 'protein': '0', 'fat': '200', 'calories': '1800', 'cost': '1.99'}, {'amount': '120', 'unit': 'g', 'ingredient': 'sugar', 'protein': '0', 'fat': '0', 'calories': '480', 'cost': '1.04'}, {'amount': '1', 'unit': 'piece', 'ingredient': 'egg', 'protein': '7.8', 'fat': '5.4', 'calories': '78', 'cost': '2'}, {'amount': '1/2', 'unit': 'tsp', 'ingredient': 'vanilla extract', 'protein': '0', 'fat': '0', 'calories': '7', 'cost': '1.25'}, {'amount': '480', 'unit': 'g', 'ingredient': 'flour', 'protein': '50.88', 'fat': '7.2', 'calories': '1536.96', 'cost': '0.89'}, {'amount': '60', 'unit': 'g', 'ingredient': 'chopped walnuts', 'protein': '8.94', 'fat': '38.58', 'calories': '402.78', 'cost': '2.89'}, {'amount': '4', 'unit': 'tsp', 'ingredient': 'lemon juice', 'protein': '0.08', 'fat': '0.14', 'calories': '7.3', 'cost': '0.69'}, {'amount': '3/4', 'unit': 'tsp', 'ingredient': 'orange zest', 'protein': '0', 'fat': '0', 'calories': '4', 'cost': '3.29'}, {'amount': '240', 'unit': 'g', 'ingredient': \"confectioners's sugar\", 'protein': '0', 'fat': '0', 'calories': '960', 'cost': '1.09'}], 'fitness': 755}, {'name': 'Tiramisu', 'ingredients': [{'amount': '240', 'unit': 'ml', 'ingredient': 'heavy cream', 'protein': '7.920', 'fat': '14.880', 'calories': '213.600', 'cost': '1.39'}, {'amount': '230', 'unit': 'g', 'ingredient': 'mascarpone', 'protein': '23.0', 'fat': '115.0', 'calories': '920.000', 'cost': '1.75'}, {'amount': '1', 'unit': 'tsp', 'ingredient': 'vanilla extract', 'protein': '0.0', 'fat': '0.0', 'calories': '15', 'cost': '0.6'}, {'amount': '240', 'unit': 'ml', 'ingredient': 'cold espresso', 'protein': '12.0', 'fat': '129.600', 'calories': '1464.000', 'cost': '3.99'}, {'amount': '3', 'unit': 'tbs', 'ingredient': 'coffe flavored liqueur', 'protein': '0.0', 'fat': '3.1', 'calories': '175', 'cost': '5.29'}, {'amount': '1', 'unit': 'package', 'ingredient': 'fingers', 'protein': '25.000', 'fat': '25.000', 'calories': '750.000', 'cost': '1.15'}, {'amount': '1', 'unit': 'tbs', 'ingredient': 'cocoa powder', 'protein': '3.400', 'fat': '1.700', 'calories': '71.400', 'cost': '2.99'}], 'fitness': 537}, {'name': 'Brownie Cookies', 'ingredients': [{'amount': '480', 'unit': 'g', 'ingredient': 'chocolate chips', 'protein': '4.8', 'fat': '96', 'calories': '2400', 'cost': '2.49'}, {'amount': '120', 'unit': 'g', 'ingredient': 'butter', 'protein': '0', 'fat': '120', 'calories': '1080', 'cost': '2.50'}, {'amount': '4', 'unit': 'piece', 'ingredient': 'egg', 'protein': '31.2', 'fat': '21.6', 'calories': '312', 'cost': '2'}, {'amount': '240', 'unit': 'g', 'ingredient': 'sugar', 'protein': '0', 'fat': '0', 'calories': '960', 'cost': '1.04'}, {'amount': '4', 'unit': 'tsp', 'ingredient': 'vanilla extract', 'protein': '0', 'fat': '0', 'calories': '60', 'cost': '1.25'}, {'amount': '2', 'unit': 'tbsp', 'ingredient': 'instant espresso powder', 'protein': '0', 'fat': '0', 'calories': '87.5', 'cost': '4.74'}, {'amount': '150', 'unit': 'g', 'ingredient': 'flour', 'protein': '15.9', 'fat': '2.25', 'calories': '480.3', 'cost': '0.89'}, {'amount': '1/2', 'unit': 'tsp', 'ingredient': 'baking powder', 'protein': '0', 'fat': '0', 'calories': '3', 'cost': '0.65'}, {'amount': '320', 'unit': 'g', 'ingredient': 'chocolate chunks', 'protein': '3.2', 'fat': '64', 'calories': '1600', 'cost': '2.49'}], 'fitness': 983}, {'name': 'Lemon Tea cookies', 'ingredients': [{'amount': '200', 'unit': 'g', 'ingredient': 'butter', 'protein': '0', 'fat': '200', 'calories': '1800', 'cost': '1.99'}, {'amount': '120', 'unit': 'g', 'ingredient': 'sugar', 'protein': '0', 'fat': '0', 'calories': '480', 'cost': '1.04'}, {'amount': '1', 'unit': 'piece', 'ingredient': 'egg', 'protein': '7.8', 'fat': '5.4', 'calories': '78', 'cost': '2'}, {'amount': '1/2', 'unit': 'tsp', 'ingredient': 'vanilla extract', 'protein': '0', 'fat': '0', 'calories': '7', 'cost': '1.25'}, {'amount': '480', 'unit': 'g', 'ingredient': 'flour', 'protein': '50.88', 'fat': '7.2', 'calories': '1536.96', 'cost': '0.89'}, {'amount': '60', 'unit': 'g', 'ingredient': 'chopped walnuts', 'protein': '8.94', 'fat': '38.58', 'calories': '402.78', 'cost': '2.89'}, {'amount': '4', 'unit': 'tsp', 'ingredient': 'lemon juice', 'protein': '0.08', 'fat': '0.14', 'calories': '7.3', 'cost': '0.69'}, {'amount': '3/4', 'unit': 'tsp', 'ingredient': 'orange zest', 'protein': '0', 'fat': '0', 'calories': '4', 'cost': '3.29'}, {'amount': '240', 'unit': 'g', 'ingredient': \"confectioners's sugar\", 'protein': '0', 'fat': '0', 'calories': '960', 'cost': '1.09'}], 'fitness': 755}, {'name': 'Caramel cake', 'ingredients': [{'amount': '425', 'unit': 'g', 'ingredient': 'salted butter', 'protein': '0.0', 'fat': '425.000', 'calories': '3825.000', 'cost': '2.15'}, {'amount': '125', 'unit': 'g', 'ingredient': 'golden caster sugar', 'protein': '0.0', 'fat': '0.0', 'calories': '500.000', 'cost': '1.29'}, {'amount': '100', 'unit': 'g', 'ingredient': 'light brown sugar', 'protein': '0.0', 'fat': '0.0', 'calories': '400.000', 'cost': '1.29'}, {'amount': '1', 'unit': 'tsp', 'ingredient': 'vanilla extract', 'protein': '0.0', 'fat': '0.0', 'calories': '17.070', 'cost': '4.59'}, {'amount': '1', 'unit': 'piece', 'ingredient': 'egg', 'protein': '7.800', 'fat': '5.400', 'calories': '78.000', 'cost': '0.4'}, {'amount': '225', 'unit': 'g', 'ingredient': 'flour', 'protein': '23.850', 'fat': '3.375', 'calories': '720.450', 'cost': '0.89'}, {'amount': '2', 'unit': 'tbsp', 'ingredient': 'milk', 'protein': '0.112', 'fat': '0.336', 'calories': '3.920', 'cost': '1.15'}, {'amount': '400', 'unit': 'g', 'ingredient': 'icing sugar', 'protein': '0.0', 'fat': '0.0', 'calories': '1600.000', 'cost': '1.49'}, {'amount': '70', 'unit': 'g', 'ingredient': 'caramel souce', 'protein': '0.0', 'fat': '0.0', 'calories': '210.000', 'cost': '2.15'}], 'fitness': 1157}, {'name': 'Strawberry cake', 'ingredients': [{'amount': '454', 'unit': 'g', 'ingredient': 'strawberries', 'protein': '3.178', 'fat': '1.362', 'calories': '145.280', 'cost': '3.99'}, {'amount': '285', 'unit': 'g', 'ingredient': 'flour', 'protein': '30.210', 'fat': '4.275', 'calories': '912.570', 'cost': '0.89'}, {'amount': '2', 'unit': 'tsp', 'ingredient': 'baking soda', 'protein': '0.0', 'fat': '0.0', 'calories': '0.0', 'cost': '1.79'}, {'amount': '1', 'unit': 'tsp', 'ingredient': 'salt', 'protein': '0.0', 'fat': '0.0', 'calories': '0.0', 'cost': '0.0'}, {'amount': '170', 'unit': 'g', 'ingredient': 'unsalted butter', 'protein': '0.0', 'fat': '170.000', 'calories': '1530.000', 'cost': '2.50'}, {'amount': '350', 'unit': 'g', 'ingredient': 'granulated sugar', 'protein': '0.0', 'fat': '0.0', 'calories': '1400.000', 'cost': '1.04'}, {'amount': '5', 'unit': 'piece', 'ingredient': 'egg whites', 'protein': '22.000', 'fat': '7.000', 'calories': '103.000', 'cost': '2.79'}, {'amount': '75', 'unit': 'g', 'ingredient': 'sour cream', 'protein': '1.875', 'fat': '14.325', 'calories': '150.000', 'cost': '1.15'}, {'amount': '2', 'unit': 'tsp', 'ingredient': 'pure vanilla extract', 'protein': '0.0', 'fat': '0.0', 'calories': '33.000', 'cost': '1.25'}, {'amount': '120', 'unit': 'ml', 'ingredient': 'whole milk', 'protein': '3.960', 'fat': '5.400', 'calories': '87.480', 'cost': '1.15'}, {'amount': '25', 'unit': 'g', 'ingredient': 'freeze-dried strawberies', 'protein': '0.175', 'fat': '0.075', 'calories': '8.000', 'cost': '3.99'}, {'amount': '226', 'unit': 'g', 'ingredient': 'cream cheese', 'protein': '14.012', 'fat': '77.744', 'calories': '791.000', 'cost': '1.29'}, {'amount': '115', 'unit': 'g', 'ingredient': 'unsalted butter', 'protein': '0.0', 'fat': '115.000', 'calories': '1035.000', 'cost': '2.50'}, {'amount': '360', 'unit': 'g', 'ingredient': \"confectioners's sugar\", 'protein': '0.0', 'fat': '0.0', 'calories': '1440.000', 'cost': '0.95'}, {'amount': '2', 'unit': 'tbs', 'ingredient': 'milk', 'protein': '0.396', 'fat': '0.540', 'calories': '8.748', 'cost': '1.15'}, {'amount': '1', 'unit': 'tsp', 'ingredient': 'pure vanilla extract', 'protein': '0.0', 'fat': '0.0', 'calories': '17.070', 'cost': '4.59'}], 'fitness': 847}, {'name': 'Chocolate Fridge Cake', 'ingredients': [{'amount': '225', 'unit': 'g', 'ingredient': 'mixed dried fruit', 'protein': '5.850', 'fat': '0.900', 'calories': '687.600', 'cost': '3.49'}, {'amount': '110', 'unit': 'ml', 'ingredient': 'brandy', 'protein': '0.0', 'fat': '0.0', 'calories': '207.00', 'cost': '5.49'}, {'amount': '300', 'unit': 'g', 'ingredient': 'dark chocolate', 'protein': '30.000', 'fat': '90.000', 'calories': '1500.000', 'cost': '1.49'}, {'amount': '125', 'unit': 'g', 'ingredient': 'butter', 'protein': '0.0', 'fat': '125.000', 'calories': '1125.000', 'cost': '2.15'}, {'amount': '3', 'unit': 'tbsp', 'ingredient': 'golden syrup', 'protein': '0.0', 'fat': '0.0', 'calories': '168.000', 'cost': '1.89'}, {'amount': '13', 'unit': 'piece', 'ingredient': 'digestive biscuits', 'protein': '0.0', 'fat': '3.1', 'calories': '300.00', 'cost': '1.09'}, {'amount': '100', 'unit': 'g', 'ingredient': 'toasted flaked almonds', 'protein': '21.100', 'fat': '49.900', 'calories': '579.000', 'cost': '1.99'}], 'fitness': 662}, {'name': 'Big & Buttery Chocolate Chip Cookies', 'ingredients': [{'amount': '240', 'unit': 'g', 'ingredient': 'butter', 'protein': '0', 'fat': '240', 'calories': '2160', 'cost': '1.99'}, {'amount': '240', 'unit': 'g', 'ingredient': 'brown sugar', 'protein': '0', 'fat': '0', 'calories': '960', 'cost': '1.29'}, {'amount': '180', 'unit': 'g', 'ingredient': 'sugar', 'protein': '180', 'fat': '0', 'calories': '720', 'cost': '1.04'}, {'amount': '1', 'unit': 'tsp', 'ingredient': 'vanilla extract', 'protein': '0', 'fat': '0', 'calories': '15', 'cost': '1.25'}, {'amount': '480', 'unit': 'g', 'ingredient': 'flour', 'protein': '50.88', 'fat': '7.2', 'calories': '1536.96', 'cost': '0.89'}, {'amount': '1', 'unit': 'tsp', 'ingredient': 'backing soda', 'protein': '0', 'fat': '0', 'calories': '0', 'cost': '0'}, {'amount': '340', 'unit': 'g', 'ingredient': 'chocolate chips', 'protein': '3.4', 'fat': '68', 'calories': '1700', 'cost': '2.49'}, {'amount': '480', 'unit': 'g', 'ingredient': 'chopped walnuts', 'protein': '71.52', 'fat': '308.64', 'calories': '3222.24', 'cost': '2.89'}], 'fitness': 1882}, {'name': 'Banana cake ', 'ingredients': [{'amount': '240', 'unit': 'g', 'ingredient': 'banana', 'protein': '3.120', 'fat': '0.720', 'calories': '265.440', 'cost': '0.69'}, {'amount': '2', 'unit': 'tbs', 'ingredient': 'lemon juice', 'protein': '0.118', 'fat': '0.207', 'calories': '10.768', 'cost': '1.35'}, {'amount': '720', 'unit': 'g', 'ingredient': 'flour', 'protein': '76.320', 'fat': '10.800', 'calories': '2305.440', 'cost': '0.89'}, {'amount': '1', 'unit': 'tsp', 'ingredient': 'baking soda', 'protein': '0.0', 'fat': '0.0', 'calories': '0.0', 'cost': '0.0'}, {'amount': '1/4', 'unit': 'tsp', 'ingredient': 'salt', 'protein': '0.0', 'fat': '0.0', 'calories': '0.0', 'cost': '0.0'}, {'amount': '480', 'unit': 'g', 'ingredient': 'white sugar', 'protein': '0.0', 'fat': '0.0', 'calories': '1920.000', 'cost': '1.4'}, {'amount': '300', 'unit': 'g', 'ingredient': 'butter', 'protein': '0.0', 'fat': '300', 'calories': '2700.000', 'cost': '2.15'}, {'amount': '3', 'unit': 'piece', 'ingredient': 'egg', 'protein': '7.800', 'fat': '5.400', 'calories': '78.000', 'cost': '1.4'}, {'amount': '2', 'unit': 'tsp', 'ingredient': 'vanilla extract', 'protein': '0.0', 'fat': '0.0', 'calories': '30', 'cost': '1.25'}, {'amount': '240', 'unit': 'g', 'ingredient': 'buttermilk', 'protein': '2.400', 'fat': '2.400', 'calories': '48.000', 'cost': '0.79'}, {'amount': '1', 'unit': 'package', 'ingredient': 'cream cheese', 'protein': '12.400', 'fat': '68.800', 'calories': '700.000', 'cost': '1.69'}, {'amount': '1', 'unit': 'tsp', 'ingredient': 'vanilla extract', 'protein': '0.0', 'fat': '0.0', 'calories': '15', 'cost': '0.6'}, {'amount': '720', 'unit': 'g', 'ingredient': \"confectioners's sugar\", 'protein': '0.0', 'fat': '0.0', 'calories': '2880.000', 'cost': '1.09'}], 'fitness': 1690}, {'name': 'Banana cake ', 'ingredients': [{'amount': '240', 'unit': 'g', 'ingredient': 'banana', 'protein': '3.120', 'fat': '0.720', 'calories': '265.440', 'cost': '0.69'}, {'amount': '2', 'unit': 'tbs', 'ingredient': 'lemon juice', 'protein': '0.118', 'fat': '0.207', 'calories': '10.768', 'cost': '1.35'}, {'amount': '720', 'unit': 'g', 'ingredient': 'flour', 'protein': '76.320', 'fat': '10.800', 'calories': '2305.440', 'cost': '0.89'}, {'amount': '1', 'unit': 'tsp', 'ingredient': 'baking soda', 'protein': '0.0', 'fat': '0.0', 'calories': '0.0', 'cost': '0.0'}, {'amount': '1/4', 'unit': 'tsp', 'ingredient': 'salt', 'protein': '0.0', 'fat': '0.0', 'calories': '0.0', 'cost': '0.0'}, {'amount': '480', 'unit': 'g', 'ingredient': 'white sugar', 'protein': '0.0', 'fat': '0.0', 'calories': '1920.000', 'cost': '1.4'}, {'amount': '300', 'unit': 'g', 'ingredient': 'butter', 'protein': '0.0', 'fat': '300', 'calories': '2700.000', 'cost': '2.15'}, {'amount': '3', 'unit': 'piece', 'ingredient': 'egg', 'protein': '7.800', 'fat': '5.400', 'calories': '78.000', 'cost': '1.4'}, {'amount': '2', 'unit': 'tsp', 'ingredient': 'vanilla extract', 'protein': '0.0', 'fat': '0.0', 'calories': '30', 'cost': '1.25'}, {'amount': '240', 'unit': 'g', 'ingredient': 'buttermilk', 'protein': '2.400', 'fat': '2.400', 'calories': '48.000', 'cost': '0.79'}, {'amount': '1', 'unit': 'package', 'ingredient': 'cream cheese', 'protein': '12.400', 'fat': '68.800', 'calories': '700.000', 'cost': '1.69'}, {'amount': '1', 'unit': 'tsp', 'ingredient': 'vanilla extract', 'protein': '0.0', 'fat': '0.0', 'calories': '15', 'cost': '0.6'}, {'amount': '720', 'unit': 'g', 'ingredient': \"confectioners's sugar\", 'protein': '0.0', 'fat': '0.0', 'calories': '2880.000', 'cost': '1.09'}], 'fitness': 1690}, {'name': 'Ginger & White Chocolate Cake', 'ingredients': [{'amount': '220', 'unit': 'g', 'ingredient': 'unsalted butter', 'protein': '0.0', 'fat': '220.000', 'calories': '1980.000', 'cost': '1.69'}, {'amount': '365', 'unit': 'g', 'ingredient': 'flour', 'protein': '38.690', 'fat': '5.475', 'calories': '1168.730', 'cost': '0.89'}, {'amount': '200', 'unit': 'g', 'ingredient': 'sugar', 'protein': '0.0', 'fat': '0.0', 'calories': '800.000', 'cost': '1.04'}, {'amount': '50', 'unit': 'g', 'ingredient': 'black treacle', 'protein': '0.0', 'fat': '0.0', 'calories': '155.0', 'cost': '1.49'}, {'amount': '150', 'unit': 'g', 'ingredient': 'golden syrup', 'protein': '0.0', 'fat': '0.0', 'calories': '600.000', 'cost': '1.89'}, {'amount': '2', 'unit': 'piece', 'ingredient': 'egg', 'protein': '15.600', 'fat': '10.800', 'calories': '156.000', 'cost': '0.8'}, {'amount': '600', 'unit': 'ml', 'ingredient': 'milk', 'protein': '2.400', 'fat': '7.200', 'calories': '84.000', 'cost': '1.15'}, {'amount': '2', 'unit': 'balls', 'ingredient': 'stem ginger in syrup', 'protein': '0.770', 'fat': '2.975', 'calories': '19.215', 'cost': '2.59'}, {'amount': '1', 'unit': 'tsp', 'ingredient': 'sea salt', 'protein': '0.0', 'fat': '0.0', 'calories': '0.0', 'cost': '0.0'}, {'amount': '3', 'unit': 'tsp', 'ingredient': 'ground ginger', 'protein': '0.0', 'fat': '0.0', 'calories': '0.0', 'cost': '2.99'}, {'amount': '1/2', 'unit': 'tsp', 'ingredient': 'cinnamon', 'protein': '0.114', 'fat': '0.028', 'calories': '2.840', 'cost': '1.03'}, {'amount': '1/2', 'unit': 'tsp', 'ingredient': 'bicarbonate of soda', 'protein': '0.0', 'fat': '0.0', 'calories': '0.0', 'cost': '1.79'}, {'amount': '160', 'unit': 'g', 'ingredient': 'icing sugar', 'protein': '0.0', 'fat': '0.0', 'calories': '680.000', 'cost': '1.49'}, {'amount': '150', 'unit': 'g', 'ingredient': 'white chocolate', 'protein': '15.000', 'fat': '75.000', 'calories': '900.000', 'cost': '1.29'}], 'fitness': 799}, {'name': 'Chocolate Chip Oatmeal Cookies', 'ingredients': [{'amount': '240', 'unit': 'g', 'ingredient': 'butter', 'protein': '0', 'fat': '240', 'calories': '2160', 'cost': '1.99'}, {'amount': '180', 'unit': 'g', 'ingredient': 'sugar', 'protein': '0', 'fat': '0', 'calories': '720', 'cost': '1.04'}, {'amount': '180', 'unit': 'g', 'ingredient': 'brown sugar', 'protein': '0', 'fat': '0', 'calories': '720', 'cost': '1.29'}, {'amount': '2', 'unit': 'piece', 'ingredient': 'egg', 'protein': '15.6', 'fat': '10.8', 'calories': '156', 'cost': '2'}, {'amount': '1', 'unit': 'tsp', 'ingredient': 'vanilla extract', 'protein': '0', 'fat': '0', 'calories': '15', 'cost': '1.25'}, {'amount': '720', 'unit': 'g', 'ingredient': 'quick-cooking oats', 'protein': '97.92', 'fat': '54.72', 'calories': '2692.8', 'cost': '0.79'}, {'amount': '140', 'unit': 'g', 'ingredient': 'flour', 'protein': '14.84', 'fat': '2.1', 'calories': '448.28', 'cost': '0.89'}, {'amount': '100', 'unit': 'g', 'ingredient': 'instant vanilla pudding mix', 'protein': '1.4', 'fat': '3.8', 'calories': '128.7', 'cost': '0.89'}, {'amount': '1', 'unit': 'tsp', 'ingredient': 'baking soda', 'protein': '0', 'fat': '0', 'calories': '0', 'cost': '0'}, {'amount': '1', 'unit': 'tsp', 'ingredient': 'salt', 'protein': '0', 'fat': '0', 'calories': '0', 'cost': '0'}, {'amount': '480', 'unit': 'g', 'ingredient': 'semisweet chocolate chips', 'protein': '4.8', 'fat': '96', 'calories': '2400', 'cost': '2.49'}, {'amount': '240', 'unit': 'g', 'ingredient': 'chopped nuts', 'protein': '72', 'fat': '96', 'calories': '1440', 'cost': '2.35'}], 'fitness': 1683}, {'name': 'Caramel cake', 'ingredients': [{'amount': '425', 'unit': 'g', 'ingredient': 'salted butter', 'protein': '0.0', 'fat': '425.000', 'calories': '3825.000', 'cost': '2.15'}, {'amount': '125', 'unit': 'g', 'ingredient': 'golden caster sugar', 'protein': '0.0', 'fat': '0.0', 'calories': '500.000', 'cost': '1.29'}, {'amount': '100', 'unit': 'g', 'ingredient': 'light brown sugar', 'protein': '0.0', 'fat': '0.0', 'calories': '400.000', 'cost': '1.29'}, {'amount': '1', 'unit': 'tsp', 'ingredient': 'vanilla extract', 'protein': '0.0', 'fat': '0.0', 'calories': '17.070', 'cost': '4.59'}, {'amount': '1', 'unit': 'piece', 'ingredient': 'egg', 'protein': '7.800', 'fat': '5.400', 'calories': '78.000', 'cost': '0.4'}, {'amount': '225', 'unit': 'g', 'ingredient': 'flour', 'protein': '23.850', 'fat': '3.375', 'calories': '720.450', 'cost': '0.89'}, {'amount': '2', 'unit': 'tbsp', 'ingredient': 'milk', 'protein': '0.112', 'fat': '0.336', 'calories': '3.920', 'cost': '1.15'}, {'amount': '400', 'unit': 'g', 'ingredient': 'icing sugar', 'protein': '0.0', 'fat': '0.0', 'calories': '1600.000', 'cost': '1.49'}, {'amount': '70', 'unit': 'g', 'ingredient': 'caramel souce', 'protein': '0.0', 'fat': '0.0', 'calories': '210.000', 'cost': '2.15'}], 'fitness': 1157}, {'name': 'Tiramisu', 'ingredients': [{'amount': '240', 'unit': 'ml', 'ingredient': 'heavy cream', 'protein': '7.920', 'fat': '14.880', 'calories': '213.600', 'cost': '1.39'}, {'amount': '230', 'unit': 'g', 'ingredient': 'mascarpone', 'protein': '23.0', 'fat': '115.0', 'calories': '920.000', 'cost': '1.75'}, {'amount': '1', 'unit': 'tsp', 'ingredient': 'vanilla extract', 'protein': '0.0', 'fat': '0.0', 'calories': '15', 'cost': '0.6'}, {'amount': '240', 'unit': 'ml', 'ingredient': 'cold espresso', 'protein': '12.0', 'fat': '129.600', 'calories': '1464.000', 'cost': '3.99'}, {'amount': '3', 'unit': 'tbs', 'ingredient': 'coffe flavored liqueur', 'protein': '0.0', 'fat': '3.1', 'calories': '175', 'cost': '5.29'}, {'amount': '1', 'unit': 'package', 'ingredient': 'fingers', 'protein': '25.000', 'fat': '25.000', 'calories': '750.000', 'cost': '1.15'}, {'amount': '1', 'unit': 'tbs', 'ingredient': 'cocoa powder', 'protein': '3.400', 'fat': '1.700', 'calories': '71.400', 'cost': '2.99'}], 'fitness': 537}, {'name': 'Brownie Cookies', 'ingredients': [{'amount': '480', 'unit': 'g', 'ingredient': 'chocolate chips', 'protein': '4.8', 'fat': '96', 'calories': '2400', 'cost': '2.49'}, {'amount': '120', 'unit': 'g', 'ingredient': 'butter', 'protein': '0', 'fat': '120', 'calories': '1080', 'cost': '2.50'}, {'amount': '4', 'unit': 'piece', 'ingredient': 'egg', 'protein': '31.2', 'fat': '21.6', 'calories': '312', 'cost': '2'}, {'amount': '240', 'unit': 'g', 'ingredient': 'sugar', 'protein': '0', 'fat': '0', 'calories': '960', 'cost': '1.04'}, {'amount': '4', 'unit': 'tsp', 'ingredient': 'vanilla extract', 'protein': '0', 'fat': '0', 'calories': '60', 'cost': '1.25'}, {'amount': '2', 'unit': 'tbsp', 'ingredient': 'instant espresso powder', 'protein': '0', 'fat': '0', 'calories': '87.5', 'cost': '4.74'}, {'amount': '150', 'unit': 'g', 'ingredient': 'flour', 'protein': '15.9', 'fat': '2.25', 'calories': '480.3', 'cost': '0.89'}, {'amount': '1/2', 'unit': 'tsp', 'ingredient': 'baking powder', 'protein': '0', 'fat': '0', 'calories': '3', 'cost': '0.65'}, {'amount': '320', 'unit': 'g', 'ingredient': 'chocolate chunks', 'protein': '3.2', 'fat': '64', 'calories': '1600', 'cost': '2.49'}], 'fitness': 983}, {'name': 'Tiramisu', 'ingredients': [{'amount': '240', 'unit': 'ml', 'ingredient': 'heavy cream', 'protein': '7.920', 'fat': '14.880', 'calories': '213.600', 'cost': '1.39'}, {'amount': '230', 'unit': 'g', 'ingredient': 'mascarpone', 'protein': '23.0', 'fat': '115.0', 'calories': '920.000', 'cost': '1.75'}, {'amount': '1', 'unit': 'tsp', 'ingredient': 'vanilla extract', 'protein': '0.0', 'fat': '0.0', 'calories': '15', 'cost': '0.6'}, {'amount': '240', 'unit': 'ml', 'ingredient': 'cold espresso', 'protein': '12.0', 'fat': '129.600', 'calories': '1464.000', 'cost': '3.99'}, {'amount': '3', 'unit': 'tbs', 'ingredient': 'coffe flavored liqueur', 'protein': '0.0', 'fat': '3.1', 'calories': '175', 'cost': '5.29'}, {'amount': '1', 'unit': 'package', 'ingredient': 'fingers', 'protein': '25.000', 'fat': '25.000', 'calories': '750.000', 'cost': '1.15'}, {'amount': '1', 'unit': 'tbs', 'ingredient': 'cocoa powder', 'protein': '3.400', 'fat': '1.700', 'calories': '71.400', 'cost': '2.99'}], 'fitness': 537}]\n"
     ]
    }
   ]
  },
  {
   "cell_type": "markdown",
   "source": [
    "In the figure below, we displayed the related fitness score to each genetic algorithm runs."
   ],
   "metadata": {
    "collapsed": false
   }
  },
  {
   "cell_type": "code",
   "source": [
    "import matplotlib.pyplot as plt\n",
    "\n",
    "x  = range(10)\n",
    "plt.plot(x, max_fitnesses, label=\"line L\")\n",
    "plt.fill_between(x, min_fitnesses, max_fitnesses, alpha=0.2)\n",
    "plt.plot()\n",
    "\n",
    "plt.xlabel(\"generation\")\n",
    "plt.ylabel(\"fitness\")\n",
    "plt.title(\"fitness over time\")\n",
    "plt.legend()\n",
    "plt.show()"
   ],
   "metadata": {
    "colab": {
     "base_uri": "https://localhost:8080/",
     "height": 472
    },
    "id": "m1QjUVIDB5HQ",
    "outputId": "582d1766-0db1-47b0-9868-5496feddd016"
   },
   "execution_count": null,
   "outputs": [
    {
     "output_type": "display_data",
     "data": {
      "text/plain": [
       "<Figure size 640x480 with 1 Axes>"
      ],
      "image/png": "[encoded data removed]"
     },
     "metadata": {}
    }
   ]
  },
  {
   "cell_type": "markdown",
   "source": [
    "### Generate the directions for the recipe given its ingredients\n",
    "\n",
    "To obtain more neatly formatted results, we have listed the generated recipe ingredients into previously prepared template, resulting in the delightful emergence of real-life recipes!"
   ],
   "metadata": {
    "id": "cApDo3W-8JgL"
   }
  },
  {
   "cell_type": "code",
   "source": [
    "def generate_directions(ingredients_and_qty):\n",
    "  dry_ingr = []\n",
    "  wet_ingr = []\n",
    "  for elem in ingredients_and_qty:\n",
    "    if elem['unit'] == 'g':\n",
    "      dry_ingr.append(elem['ingredient'])\n",
    "    else:\n",
    "      wet_ingr.append(elem['ingredient'])\n",
    "  temp = ['180°', '190°', '200°']\n",
    "  time = ['30', '35', '40']\n",
    "  time_refrig = ['1', '2', '3']\n",
    "\n",
    "  template_0 = \"Preheat the oven at \" + random.choice(temp) + \".\"\n",
    "  template_1 = \"Mix together {dry_ingredients} in a bowl.\"\n",
    "  template_2 = \"In another bowl, beat together {wet_ingredients}.\"\n",
    "  template_3 = \"Now combine and mix all the ingredients together.\"\n",
    "  template_3_1 = \"Chill the cookie dough in the refrigerator for \" + random.choice(time_refrig) + \" hour.\"\n",
    "  template_4 = \"Spread the batter into a cake pan.\"\n",
    "  template_4_1 = \"Now roll the cookie dough into balls and place them on a baking tray.\"\n",
    "  template_5 = \"Bake for \" + random.choice(time) + \" minutes.\"\n",
    "\n",
    "  dry_ingredients = \"\"\n",
    "  wet_ingredients = \"\"\n",
    "\n",
    "  for elem in dry_ingr:\n",
    "    if dry_ingr.index(elem) == (len(dry_ingr)-1):\n",
    "      dry_ingredients += \"and \" + elem\n",
    "    else:\n",
    "      dry_ingredients += elem + \", \"\n",
    "\n",
    "  for elem in wet_ingr:\n",
    "    if wet_ingr.index(elem) == (len(wet_ingr)-1):\n",
    "      wet_ingredients += \"and \" + elem\n",
    "    else:\n",
    "      wet_ingredients += elem + \", \"\n",
    "\n",
    "  # Create a dictionary of ingredient names and other details\n",
    "  recipe_details = {\n",
    "      \"dry_ingredients\": dry_ingredients,\n",
    "      \"wet_ingredients\": wet_ingredients,\n",
    "      \"temperature\": temp,\n",
    "      \"time\": time,\n",
    "      \"time_refrig\": time_refrig\n",
    "  }\n",
    "\n",
    "\n",
    "  # Replace placeholders in templates with actual details\n",
    "  template_0 = template_0.format(**recipe_details)\n",
    "  template_1 = template_1.format(**recipe_details)\n",
    "  template_2 = template_2.format(**recipe_details)\n",
    "  template_3 = template_3.format(**recipe_details)\n",
    "  template_3_1 = template_3_1.format(**recipe_details)\n",
    "  template_4_1 = template_4_1.format(**recipe_details)\n",
    "  template_4 = template_4.format(**recipe_details)\n",
    "  template_5 = template_5.format(**recipe_details)\n",
    "\n",
    "  # Generate either a cookie recipe or a cake recipe with probability = cookie_to_cake_ratio\n",
    "  cookie_to_cake_ration = 0.5\n",
    "\n",
    "  if random.randint(0, 1) < cookie_to_cake_ration:\n",
    "    # Combine the modified templates to create a recipe description\n",
    "    cake_description = f\"{template_0}\\n{template_1}\\n{template_2}\\n{template_3}\\n{template_4}\\n{template_5}\"\n",
    "    return cake_description\n",
    "  else:\n",
    "    cookie_description = f\"{template_0}\\n{template_1}\\n{template_2}\\n{template_3_1}\\n{template_4_1}\\n{template_5}\"\n",
    "    return cookie_description"
   ],
   "metadata": {
    "id": "kMWJCKis8JB_"
   },
   "execution_count": null,
   "outputs": []
  },
  {
   "cell_type": "code",
   "source": [
    "# Directions for the recipe\n",
    "print(generate_directions(recipe['ingredients']))"
   ],
   "metadata": {
    "id": "LGh4tXGH814t",
    "colab": {
     "base_uri": "https://localhost:8080/"
    },
    "outputId": "5ddacd4c-cd03-4806-c69b-1630737a291d"
   },
   "execution_count": null,
   "outputs": [
    {
     "output_type": "stream",
     "name": "stdout",
     "text": [
      "Preheat the oven at 200°.\n",
      "Mix together banana, flour, white sugar, butter, buttermilk, and confectioners's sugar in a bowl.\n",
      "In another bowl, beat together lemon juice, baking soda, salt, egg, vanilla extract, cream cheese, vanilla extract, .\n",
      "Chill the cookie dough in the refrigerator for 3 hour.\n",
      "Now roll the cookie dough into balls and place them on a baking tray.\n",
      "Bake for 35 minutes.\n"
     ]
    }
   ]
  },
  {
   "cell_type": "markdown",
   "source": [
    "### Evaluation conclusions\n",
    "The final creativity level of our system is highly influenced by the inspirational recipes provided. With current state-of-art, we are getting amazingly variation of either cookies or cake recipes. During multiple runs of the algorithm, we are converging to the highest possible fitness score, which finishing by producing one best recipe. However, each of these is slightly different from others."
   ],
   "metadata": {
    "collapsed": false
   }
  },
  {
   "cell_type": "markdown",
   "source": [
    "### Presenting our Cook Book\n",
    "To adequately present the remarkable showcase of our Cook Book program, we harnessed the capabilities of advanced Generative AI systems. The presentation process involved utilization of Dream Studio to generate photos on our showcase webpage.\n",
    "\n",
    "Dream Studio - Dream Studio's model, \"SDXL v1.0\" emerged as a key factor in shaping the imagery for the subsequent three recipes. By formulating concise yet instructive prompts, we successfully generated three thematically aligned illustrations, artfully conveying the essence of recipes itself. Here is the one example of evaluated prompt:\n",
    "\n",
    "```\n",
    "Create a bright and minimalistic photo showcasing the essence of a 'Lemon Bliss Banana Cake.'\n",
    "The cake is a delightful combination of banana, lemon, and a touch of sweetness.\n",
    "Emphasize the freshness and simplicity of the ingredients.\n",
    "Use soft, natural lighting to enhance the overall brightness of the scene.\n",
    "Consider incorporating elements like fresh bananas, a lemon, or a slice of the cake in a visually appealing composition.\n",
    "Capture the mood of a sunny day with a clean and inviting aesthetic.\n",
    "The final photo should evoke a sense of joy and the delicious flavors of the Lemon Bliss Banana Cake.\n",
    "```\n",
    "\n",
    "Each of the recipe's title were generated by AI with respect to its context.\n",
    "Subsequently, all the components were assembled into one webpage showcase, which was created in collaboration of AI generation and our changes."
   ],
   "metadata": {
    "collapsed": false
   }
  }
 ]
}
